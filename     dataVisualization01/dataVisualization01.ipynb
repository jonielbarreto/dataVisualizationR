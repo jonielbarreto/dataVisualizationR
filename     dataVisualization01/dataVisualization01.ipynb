{
  "nbformat": 4,
  "nbformat_minor": 0,
  "metadata": {
    "colab": {
      "provenance": [],
      "authorship_tag": "ABX9TyPVCaElryN0tOANmkvusdKC",
      "include_colab_link": true
    },
    "kernelspec": {
      "name": "ir",
      "display_name": "R"
    },
    "language_info": {
      "name": "R"
    }
  },
  "cells": [
    {
      "cell_type": "markdown",
      "metadata": {
        "id": "view-in-github",
        "colab_type": "text"
      },
      "source": [
        "<a href=\"https://colab.research.google.com/github/jonielbarreto/dataVisualizationR/blob/main/%20%20%20%20dataVisualization01/dataVisualization01.ipynb\" target=\"_parent\"><img src=\"https://colab.research.google.com/assets/colab-badge.svg\" alt=\"Open In Colab\"/></a>"
      ]
    },
    {
      "cell_type": "markdown",
      "source": [
        "# Data Visualization - Basic Functions 01\n",
        "## Exploring datasets\n",
        "# --------------------------------------------------------------------------------------------------------------------------------------------\n",
        "##### Create by Joniel B Barreto on August 16th, 2022\n",
        "##### Copyright (c) 2022 jonielbarreto. All rights reserved."
      ],
      "metadata": {
        "id": "3ZdTcR8AZQYi"
      }
    },
    {
      "cell_type": "code",
      "source": [
        "## Install packages\n",
        "install.packages(\"dplyr\")         # Install package\n",
        "install.packages(\"data.table\")\n",
        "install.packages(\"matrixStats\")\n",
        "library(dplyr)                    # load the package\n",
        "library(data.table)\n",
        "library(matrixStats)"
      ],
      "metadata": {
        "colab": {
          "base_uri": "https://localhost:8080/"
        },
        "id": "1niToMvuZ6Uj",
        "outputId": "ccfe808b-5dd4-46da-be26-ce7d81a181f9"
      },
      "execution_count": 1,
      "outputs": [
        {
          "output_type": "stream",
          "name": "stderr",
          "text": [
            "Installing package into ‘/usr/local/lib/R/site-library’\n",
            "(as ‘lib’ is unspecified)\n",
            "\n",
            "Installing package into ‘/usr/local/lib/R/site-library’\n",
            "(as ‘lib’ is unspecified)\n",
            "\n",
            "Installing package into ‘/usr/local/lib/R/site-library’\n",
            "(as ‘lib’ is unspecified)\n",
            "\n",
            "\n",
            "Attaching package: ‘dplyr’\n",
            "\n",
            "\n",
            "The following objects are masked from ‘package:stats’:\n",
            "\n",
            "    filter, lag\n",
            "\n",
            "\n",
            "The following objects are masked from ‘package:base’:\n",
            "\n",
            "    intersect, setdiff, setequal, union\n",
            "\n",
            "\n",
            "\n",
            "Attaching package: ‘data.table’\n",
            "\n",
            "\n",
            "The following objects are masked from ‘package:dplyr’:\n",
            "\n",
            "    between, first, last\n",
            "\n",
            "\n",
            "\n",
            "Attaching package: ‘matrixStats’\n",
            "\n",
            "\n",
            "The following object is masked from ‘package:dplyr’:\n",
            "\n",
            "    count\n",
            "\n",
            "\n"
          ]
        }
      ]
    },
    {
      "cell_type": "markdown",
      "source": [
        "The \"drinks.txt\" data shows information about alcohol consumption in 193 countries. It has 5 columns: country (chr), beer_servings (int), spirit_servings (int), wine_servings (int) and total_litres_of_pure_alcohol (dbl)"
      ],
      "metadata": {
        "id": "s7jyON3eczL-"
      }
    },
    {
      "cell_type": "code",
      "source": [
        "## Reading the dataset\n",
        "df <- fread(\"drinks.txt\", header = TRUE, sep = \",\")\n",
        "df"
      ],
      "metadata": {
        "colab": {
          "base_uri": "https://localhost:8080/",
          "height": 1000
        },
        "id": "e0fexI4va7tF",
        "outputId": "6f18044c-51dd-49bd-a570-0db6df81616a"
      },
      "execution_count": 3,
      "outputs": [
        {
          "output_type": "display_data",
          "data": {
            "text/html": [
              "<table class=\"dataframe\">\n",
              "<caption>A data.table: 193 × 5</caption>\n",
              "<thead>\n",
              "\t<tr><th scope=col>country</th><th scope=col>beer_servings</th><th scope=col>spirit_servings</th><th scope=col>wine_servings</th><th scope=col>total_litres_of_pure_alcohol</th></tr>\n",
              "\t<tr><th scope=col>&lt;chr&gt;</th><th scope=col>&lt;int&gt;</th><th scope=col>&lt;int&gt;</th><th scope=col>&lt;int&gt;</th><th scope=col>&lt;dbl&gt;</th></tr>\n",
              "</thead>\n",
              "<tbody>\n",
              "\t<tr><td>Afghanistan       </td><td>  0</td><td>  0</td><td>  0</td><td> 0.0</td></tr>\n",
              "\t<tr><td>Albania           </td><td> 89</td><td>132</td><td> 54</td><td> 4.9</td></tr>\n",
              "\t<tr><td>Algeria           </td><td> 25</td><td>  0</td><td> 14</td><td> 0.7</td></tr>\n",
              "\t<tr><td>Andorra           </td><td>245</td><td>138</td><td>312</td><td>12.4</td></tr>\n",
              "\t<tr><td>Angola            </td><td>217</td><td> 57</td><td> 45</td><td> 5.9</td></tr>\n",
              "\t<tr><td>Antigua &amp; Barbuda </td><td>102</td><td>128</td><td> 45</td><td> 4.9</td></tr>\n",
              "\t<tr><td>Argentina         </td><td>193</td><td> 25</td><td>221</td><td> 8.3</td></tr>\n",
              "\t<tr><td>Armenia           </td><td> 21</td><td>179</td><td> 11</td><td> 3.8</td></tr>\n",
              "\t<tr><td>Australia         </td><td>261</td><td> 72</td><td>212</td><td>10.4</td></tr>\n",
              "\t<tr><td>Austria           </td><td>279</td><td> 75</td><td>191</td><td> 9.7</td></tr>\n",
              "\t<tr><td>Azerbaijan        </td><td> 21</td><td> 46</td><td>  5</td><td> 1.3</td></tr>\n",
              "\t<tr><td>Bahamas           </td><td>122</td><td>176</td><td> 51</td><td> 6.3</td></tr>\n",
              "\t<tr><td>Bahrain           </td><td> 42</td><td> 63</td><td>  7</td><td> 2.0</td></tr>\n",
              "\t<tr><td>Bangladesh        </td><td>  0</td><td>  0</td><td>  0</td><td> 0.0</td></tr>\n",
              "\t<tr><td>Barbados          </td><td>143</td><td>173</td><td> 36</td><td> 6.3</td></tr>\n",
              "\t<tr><td>Belarus           </td><td>142</td><td>373</td><td> 42</td><td>14.4</td></tr>\n",
              "\t<tr><td>Belgium           </td><td>295</td><td> 84</td><td>212</td><td>10.5</td></tr>\n",
              "\t<tr><td>Belize            </td><td>263</td><td>114</td><td>  8</td><td> 6.8</td></tr>\n",
              "\t<tr><td>Benin             </td><td> 34</td><td>  4</td><td> 13</td><td> 1.1</td></tr>\n",
              "\t<tr><td>Bhutan            </td><td> 23</td><td>  0</td><td>  0</td><td> 0.4</td></tr>\n",
              "\t<tr><td>Bolivia           </td><td>167</td><td> 41</td><td>  8</td><td> 3.8</td></tr>\n",
              "\t<tr><td>Bosnia-Herzegovina</td><td> 76</td><td>173</td><td>  8</td><td> 4.6</td></tr>\n",
              "\t<tr><td>Botswana          </td><td>173</td><td> 35</td><td> 35</td><td> 5.4</td></tr>\n",
              "\t<tr><td>Brazil            </td><td>245</td><td>145</td><td> 16</td><td> 7.2</td></tr>\n",
              "\t<tr><td>Brunei            </td><td> 31</td><td>  2</td><td>  1</td><td> 0.6</td></tr>\n",
              "\t<tr><td>Bulgaria          </td><td>231</td><td>252</td><td> 94</td><td>10.3</td></tr>\n",
              "\t<tr><td>Burkina Faso      </td><td> 25</td><td>  7</td><td>  7</td><td> 4.3</td></tr>\n",
              "\t<tr><td>Burundi           </td><td> 88</td><td>  0</td><td>  0</td><td> 6.3</td></tr>\n",
              "\t<tr><td>Cote d'Ivoire     </td><td> 37</td><td>  1</td><td>  7</td><td> 4.0</td></tr>\n",
              "\t<tr><td>Cabo Verde        </td><td>144</td><td> 56</td><td> 16</td><td> 4.0</td></tr>\n",
              "\t<tr><td>⋮</td><td>⋮</td><td>⋮</td><td>⋮</td><td>⋮</td></tr>\n",
              "\t<tr><td>Suriname            </td><td>128</td><td>178</td><td>  7</td><td> 5.6</td></tr>\n",
              "\t<tr><td>Swaziland           </td><td> 90</td><td>  2</td><td>  2</td><td> 4.7</td></tr>\n",
              "\t<tr><td>Sweden              </td><td>152</td><td> 60</td><td>186</td><td> 7.2</td></tr>\n",
              "\t<tr><td>Switzerland         </td><td>185</td><td>100</td><td>280</td><td>10.2</td></tr>\n",
              "\t<tr><td>Syria               </td><td>  5</td><td> 35</td><td> 16</td><td> 1.0</td></tr>\n",
              "\t<tr><td>Tajikistan          </td><td>  2</td><td> 15</td><td>  0</td><td> 0.3</td></tr>\n",
              "\t<tr><td>Thailand            </td><td> 99</td><td>258</td><td>  1</td><td> 6.4</td></tr>\n",
              "\t<tr><td>Macedonia           </td><td>106</td><td> 27</td><td> 86</td><td> 3.9</td></tr>\n",
              "\t<tr><td>Timor-Leste         </td><td>  1</td><td>  1</td><td>  4</td><td> 0.1</td></tr>\n",
              "\t<tr><td>Togo                </td><td> 36</td><td>  2</td><td> 19</td><td> 1.3</td></tr>\n",
              "\t<tr><td>Tonga               </td><td> 36</td><td> 21</td><td>  5</td><td> 1.1</td></tr>\n",
              "\t<tr><td><span style=white-space:pre-wrap>Trinidad &amp; Tobago   </span></td><td>197</td><td>156</td><td><span style=white-space:pre-wrap>  7</span></td><td> 6.4</td></tr>\n",
              "\t<tr><td>Tunisia             </td><td> 51</td><td>  3</td><td> 20</td><td> 1.3</td></tr>\n",
              "\t<tr><td>Turkey              </td><td> 51</td><td> 22</td><td>  7</td><td> 1.4</td></tr>\n",
              "\t<tr><td>Turkmenistan        </td><td> 19</td><td> 71</td><td> 32</td><td> 2.2</td></tr>\n",
              "\t<tr><td>Tuvalu              </td><td>  6</td><td> 41</td><td>  9</td><td> 1.0</td></tr>\n",
              "\t<tr><td>Uganda              </td><td> 45</td><td>  9</td><td>  0</td><td> 8.3</td></tr>\n",
              "\t<tr><td>Ukraine             </td><td>206</td><td>237</td><td> 45</td><td> 8.9</td></tr>\n",
              "\t<tr><td>United Arab Emirates</td><td> 16</td><td>135</td><td>  5</td><td> 2.8</td></tr>\n",
              "\t<tr><td>United Kingdom      </td><td>219</td><td>126</td><td>195</td><td>10.4</td></tr>\n",
              "\t<tr><td>Tanzania            </td><td> 36</td><td>  6</td><td>  1</td><td> 5.7</td></tr>\n",
              "\t<tr><td>USA                 </td><td>249</td><td>158</td><td> 84</td><td> 8.7</td></tr>\n",
              "\t<tr><td>Uruguay             </td><td>115</td><td> 35</td><td>220</td><td> 6.6</td></tr>\n",
              "\t<tr><td>Uzbekistan          </td><td> 25</td><td>101</td><td>  8</td><td> 2.4</td></tr>\n",
              "\t<tr><td>Vanuatu             </td><td> 21</td><td> 18</td><td> 11</td><td> 0.9</td></tr>\n",
              "\t<tr><td>Venezuela           </td><td>333</td><td>100</td><td>  3</td><td> 7.7</td></tr>\n",
              "\t<tr><td>Vietnam             </td><td>111</td><td>  2</td><td>  1</td><td> 2.0</td></tr>\n",
              "\t<tr><td>Yemen               </td><td>  6</td><td>  0</td><td>  0</td><td> 0.1</td></tr>\n",
              "\t<tr><td>Zambia              </td><td> 32</td><td> 19</td><td>  4</td><td> 2.5</td></tr>\n",
              "\t<tr><td>Zimbabwe            </td><td> 64</td><td> 18</td><td>  4</td><td> 4.7</td></tr>\n",
              "</tbody>\n",
              "</table>\n"
            ],
            "text/markdown": "\nA data.table: 193 × 5\n\n| country &lt;chr&gt; | beer_servings &lt;int&gt; | spirit_servings &lt;int&gt; | wine_servings &lt;int&gt; | total_litres_of_pure_alcohol &lt;dbl&gt; |\n|---|---|---|---|---|\n| Afghanistan        |   0 |   0 |   0 |  0.0 |\n| Albania            |  89 | 132 |  54 |  4.9 |\n| Algeria            |  25 |   0 |  14 |  0.7 |\n| Andorra            | 245 | 138 | 312 | 12.4 |\n| Angola             | 217 |  57 |  45 |  5.9 |\n| Antigua &amp; Barbuda  | 102 | 128 |  45 |  4.9 |\n| Argentina          | 193 |  25 | 221 |  8.3 |\n| Armenia            |  21 | 179 |  11 |  3.8 |\n| Australia          | 261 |  72 | 212 | 10.4 |\n| Austria            | 279 |  75 | 191 |  9.7 |\n| Azerbaijan         |  21 |  46 |   5 |  1.3 |\n| Bahamas            | 122 | 176 |  51 |  6.3 |\n| Bahrain            |  42 |  63 |   7 |  2.0 |\n| Bangladesh         |   0 |   0 |   0 |  0.0 |\n| Barbados           | 143 | 173 |  36 |  6.3 |\n| Belarus            | 142 | 373 |  42 | 14.4 |\n| Belgium            | 295 |  84 | 212 | 10.5 |\n| Belize             | 263 | 114 |   8 |  6.8 |\n| Benin              |  34 |   4 |  13 |  1.1 |\n| Bhutan             |  23 |   0 |   0 |  0.4 |\n| Bolivia            | 167 |  41 |   8 |  3.8 |\n| Bosnia-Herzegovina |  76 | 173 |   8 |  4.6 |\n| Botswana           | 173 |  35 |  35 |  5.4 |\n| Brazil             | 245 | 145 |  16 |  7.2 |\n| Brunei             |  31 |   2 |   1 |  0.6 |\n| Bulgaria           | 231 | 252 |  94 | 10.3 |\n| Burkina Faso       |  25 |   7 |   7 |  4.3 |\n| Burundi            |  88 |   0 |   0 |  6.3 |\n| Cote d'Ivoire      |  37 |   1 |   7 |  4.0 |\n| Cabo Verde         | 144 |  56 |  16 |  4.0 |\n| ⋮ | ⋮ | ⋮ | ⋮ | ⋮ |\n| Suriname             | 128 | 178 |   7 |  5.6 |\n| Swaziland            |  90 |   2 |   2 |  4.7 |\n| Sweden               | 152 |  60 | 186 |  7.2 |\n| Switzerland          | 185 | 100 | 280 | 10.2 |\n| Syria                |   5 |  35 |  16 |  1.0 |\n| Tajikistan           |   2 |  15 |   0 |  0.3 |\n| Thailand             |  99 | 258 |   1 |  6.4 |\n| Macedonia            | 106 |  27 |  86 |  3.9 |\n| Timor-Leste          |   1 |   1 |   4 |  0.1 |\n| Togo                 |  36 |   2 |  19 |  1.3 |\n| Tonga                |  36 |  21 |   5 |  1.1 |\n| Trinidad &amp; Tobago    | 197 | 156 |   7 |  6.4 |\n| Tunisia              |  51 |   3 |  20 |  1.3 |\n| Turkey               |  51 |  22 |   7 |  1.4 |\n| Turkmenistan         |  19 |  71 |  32 |  2.2 |\n| Tuvalu               |   6 |  41 |   9 |  1.0 |\n| Uganda               |  45 |   9 |   0 |  8.3 |\n| Ukraine              | 206 | 237 |  45 |  8.9 |\n| United Arab Emirates |  16 | 135 |   5 |  2.8 |\n| United Kingdom       | 219 | 126 | 195 | 10.4 |\n| Tanzania             |  36 |   6 |   1 |  5.7 |\n| USA                  | 249 | 158 |  84 |  8.7 |\n| Uruguay              | 115 |  35 | 220 |  6.6 |\n| Uzbekistan           |  25 | 101 |   8 |  2.4 |\n| Vanuatu              |  21 |  18 |  11 |  0.9 |\n| Venezuela            | 333 | 100 |   3 |  7.7 |\n| Vietnam              | 111 |   2 |   1 |  2.0 |\n| Yemen                |   6 |   0 |   0 |  0.1 |\n| Zambia               |  32 |  19 |   4 |  2.5 |\n| Zimbabwe             |  64 |  18 |   4 |  4.7 |\n\n",
            "text/latex": "A data.table: 193 × 5\n\\begin{tabular}{lllll}\n country & beer\\_servings & spirit\\_servings & wine\\_servings & total\\_litres\\_of\\_pure\\_alcohol\\\\\n <chr> & <int> & <int> & <int> & <dbl>\\\\\n\\hline\n\t Afghanistan        &   0 &   0 &   0 &  0.0\\\\\n\t Albania            &  89 & 132 &  54 &  4.9\\\\\n\t Algeria            &  25 &   0 &  14 &  0.7\\\\\n\t Andorra            & 245 & 138 & 312 & 12.4\\\\\n\t Angola             & 217 &  57 &  45 &  5.9\\\\\n\t Antigua \\& Barbuda  & 102 & 128 &  45 &  4.9\\\\\n\t Argentina          & 193 &  25 & 221 &  8.3\\\\\n\t Armenia            &  21 & 179 &  11 &  3.8\\\\\n\t Australia          & 261 &  72 & 212 & 10.4\\\\\n\t Austria            & 279 &  75 & 191 &  9.7\\\\\n\t Azerbaijan         &  21 &  46 &   5 &  1.3\\\\\n\t Bahamas            & 122 & 176 &  51 &  6.3\\\\\n\t Bahrain            &  42 &  63 &   7 &  2.0\\\\\n\t Bangladesh         &   0 &   0 &   0 &  0.0\\\\\n\t Barbados           & 143 & 173 &  36 &  6.3\\\\\n\t Belarus            & 142 & 373 &  42 & 14.4\\\\\n\t Belgium            & 295 &  84 & 212 & 10.5\\\\\n\t Belize             & 263 & 114 &   8 &  6.8\\\\\n\t Benin              &  34 &   4 &  13 &  1.1\\\\\n\t Bhutan             &  23 &   0 &   0 &  0.4\\\\\n\t Bolivia            & 167 &  41 &   8 &  3.8\\\\\n\t Bosnia-Herzegovina &  76 & 173 &   8 &  4.6\\\\\n\t Botswana           & 173 &  35 &  35 &  5.4\\\\\n\t Brazil             & 245 & 145 &  16 &  7.2\\\\\n\t Brunei             &  31 &   2 &   1 &  0.6\\\\\n\t Bulgaria           & 231 & 252 &  94 & 10.3\\\\\n\t Burkina Faso       &  25 &   7 &   7 &  4.3\\\\\n\t Burundi            &  88 &   0 &   0 &  6.3\\\\\n\t Cote d'Ivoire      &  37 &   1 &   7 &  4.0\\\\\n\t Cabo Verde         & 144 &  56 &  16 &  4.0\\\\\n\t ⋮ & ⋮ & ⋮ & ⋮ & ⋮\\\\\n\t Suriname             & 128 & 178 &   7 &  5.6\\\\\n\t Swaziland            &  90 &   2 &   2 &  4.7\\\\\n\t Sweden               & 152 &  60 & 186 &  7.2\\\\\n\t Switzerland          & 185 & 100 & 280 & 10.2\\\\\n\t Syria                &   5 &  35 &  16 &  1.0\\\\\n\t Tajikistan           &   2 &  15 &   0 &  0.3\\\\\n\t Thailand             &  99 & 258 &   1 &  6.4\\\\\n\t Macedonia            & 106 &  27 &  86 &  3.9\\\\\n\t Timor-Leste          &   1 &   1 &   4 &  0.1\\\\\n\t Togo                 &  36 &   2 &  19 &  1.3\\\\\n\t Tonga                &  36 &  21 &   5 &  1.1\\\\\n\t Trinidad \\& Tobago    & 197 & 156 &   7 &  6.4\\\\\n\t Tunisia              &  51 &   3 &  20 &  1.3\\\\\n\t Turkey               &  51 &  22 &   7 &  1.4\\\\\n\t Turkmenistan         &  19 &  71 &  32 &  2.2\\\\\n\t Tuvalu               &   6 &  41 &   9 &  1.0\\\\\n\t Uganda               &  45 &   9 &   0 &  8.3\\\\\n\t Ukraine              & 206 & 237 &  45 &  8.9\\\\\n\t United Arab Emirates &  16 & 135 &   5 &  2.8\\\\\n\t United Kingdom       & 219 & 126 & 195 & 10.4\\\\\n\t Tanzania             &  36 &   6 &   1 &  5.7\\\\\n\t USA                  & 249 & 158 &  84 &  8.7\\\\\n\t Uruguay              & 115 &  35 & 220 &  6.6\\\\\n\t Uzbekistan           &  25 & 101 &   8 &  2.4\\\\\n\t Vanuatu              &  21 &  18 &  11 &  0.9\\\\\n\t Venezuela            & 333 & 100 &   3 &  7.7\\\\\n\t Vietnam              & 111 &   2 &   1 &  2.0\\\\\n\t Yemen                &   6 &   0 &   0 &  0.1\\\\\n\t Zambia               &  32 &  19 &   4 &  2.5\\\\\n\t Zimbabwe             &  64 &  18 &   4 &  4.7\\\\\n\\end{tabular}\n",
            "text/plain": [
              "    country              beer_servings spirit_servings wine_servings\n",
              "1   Afghanistan            0             0               0          \n",
              "2   Albania               89           132              54          \n",
              "3   Algeria               25             0              14          \n",
              "4   Andorra              245           138             312          \n",
              "5   Angola               217            57              45          \n",
              "6   Antigua & Barbuda    102           128              45          \n",
              "7   Argentina            193            25             221          \n",
              "8   Armenia               21           179              11          \n",
              "9   Australia            261            72             212          \n",
              "10  Austria              279            75             191          \n",
              "11  Azerbaijan            21            46               5          \n",
              "12  Bahamas              122           176              51          \n",
              "13  Bahrain               42            63               7          \n",
              "14  Bangladesh             0             0               0          \n",
              "15  Barbados             143           173              36          \n",
              "16  Belarus              142           373              42          \n",
              "17  Belgium              295            84             212          \n",
              "18  Belize               263           114               8          \n",
              "19  Benin                 34             4              13          \n",
              "20  Bhutan                23             0               0          \n",
              "21  Bolivia              167            41               8          \n",
              "22  Bosnia-Herzegovina    76           173               8          \n",
              "23  Botswana             173            35              35          \n",
              "24  Brazil               245           145              16          \n",
              "25  Brunei                31             2               1          \n",
              "26  Bulgaria             231           252              94          \n",
              "27  Burkina Faso          25             7               7          \n",
              "28  Burundi               88             0               0          \n",
              "29  Cote d'Ivoire         37             1               7          \n",
              "30  Cabo Verde           144            56              16          \n",
              "⋮   ⋮                    ⋮             ⋮               ⋮            \n",
              "164 Suriname             128           178               7          \n",
              "165 Swaziland             90             2               2          \n",
              "166 Sweden               152            60             186          \n",
              "167 Switzerland          185           100             280          \n",
              "168 Syria                  5            35              16          \n",
              "169 Tajikistan             2            15               0          \n",
              "170 Thailand              99           258               1          \n",
              "171 Macedonia            106            27              86          \n",
              "172 Timor-Leste            1             1               4          \n",
              "173 Togo                  36             2              19          \n",
              "174 Tonga                 36            21               5          \n",
              "175 Trinidad & Tobago    197           156               7          \n",
              "176 Tunisia               51             3              20          \n",
              "177 Turkey                51            22               7          \n",
              "178 Turkmenistan          19            71              32          \n",
              "179 Tuvalu                 6            41               9          \n",
              "180 Uganda                45             9               0          \n",
              "181 Ukraine              206           237              45          \n",
              "182 United Arab Emirates  16           135               5          \n",
              "183 United Kingdom       219           126             195          \n",
              "184 Tanzania              36             6               1          \n",
              "185 USA                  249           158              84          \n",
              "186 Uruguay              115            35             220          \n",
              "187 Uzbekistan            25           101               8          \n",
              "188 Vanuatu               21            18              11          \n",
              "189 Venezuela            333           100               3          \n",
              "190 Vietnam              111             2               1          \n",
              "191 Yemen                  6             0               0          \n",
              "192 Zambia                32            19               4          \n",
              "193 Zimbabwe              64            18               4          \n",
              "    total_litres_of_pure_alcohol\n",
              "1    0.0                        \n",
              "2    4.9                        \n",
              "3    0.7                        \n",
              "4   12.4                        \n",
              "5    5.9                        \n",
              "6    4.9                        \n",
              "7    8.3                        \n",
              "8    3.8                        \n",
              "9   10.4                        \n",
              "10   9.7                        \n",
              "11   1.3                        \n",
              "12   6.3                        \n",
              "13   2.0                        \n",
              "14   0.0                        \n",
              "15   6.3                        \n",
              "16  14.4                        \n",
              "17  10.5                        \n",
              "18   6.8                        \n",
              "19   1.1                        \n",
              "20   0.4                        \n",
              "21   3.8                        \n",
              "22   4.6                        \n",
              "23   5.4                        \n",
              "24   7.2                        \n",
              "25   0.6                        \n",
              "26  10.3                        \n",
              "27   4.3                        \n",
              "28   6.3                        \n",
              "29   4.0                        \n",
              "30   4.0                        \n",
              "⋮   ⋮                           \n",
              "164  5.6                        \n",
              "165  4.7                        \n",
              "166  7.2                        \n",
              "167 10.2                        \n",
              "168  1.0                        \n",
              "169  0.3                        \n",
              "170  6.4                        \n",
              "171  3.9                        \n",
              "172  0.1                        \n",
              "173  1.3                        \n",
              "174  1.1                        \n",
              "175  6.4                        \n",
              "176  1.3                        \n",
              "177  1.4                        \n",
              "178  2.2                        \n",
              "179  1.0                        \n",
              "180  8.3                        \n",
              "181  8.9                        \n",
              "182  2.8                        \n",
              "183 10.4                        \n",
              "184  5.7                        \n",
              "185  8.7                        \n",
              "186  6.6                        \n",
              "187  2.4                        \n",
              "188  0.9                        \n",
              "189  7.7                        \n",
              "190  2.0                        \n",
              "191  0.1                        \n",
              "192  2.5                        \n",
              "193  4.7                        "
            ]
          },
          "metadata": {}
        }
      ]
    },
    {
      "cell_type": "markdown",
      "source": [
        "The above R code, assumes that the file “drinks.txt” is in your current working directory.\n",
        "- To know your current working directory, type the function getwd() in R console. To set the directory, type the function setwd() in R console.\n",
        "\n",
        "``read()`` function is a faster way to read files, particularly large files. The good thing about this function is that it automatically detects column types and separators, which can also be specified manually. It can also detect the header names and assign them to corresponding columns.\n",
        "\n",
        "There's some functions to read files, such as ``read.table`` or readlines and others, but as we want to work with this data as a data frame and the file has special characters fread it's the best choice.\n",
        "\n",
        "\n"
      ],
      "metadata": {
        "id": "PtGC5u0Oc1UD"
      }
    },
    {
      "cell_type": "markdown",
      "source": [
        "### 1. What is the mean and standard deviation of beer (beer_servings), liquor (spirit_servings), wine (wine_servings) and total alcohol (total_litres_of_pure_alcohol) consumption?"
      ],
      "metadata": {
        "id": "VESKssYgd-JW"
      }
    },
    {
      "cell_type": "code",
      "source": [
        "# Calculate the mean\n",
        "df_m <- colMeans(df[,-1])\n",
        "df_m"
      ],
      "metadata": {
        "colab": {
          "base_uri": "https://localhost:8080/",
          "height": 34
        },
        "id": "cZgkNpx6bTp_",
        "outputId": "33afa707-fd12-44a5-cbe6-653c700a237b"
      },
      "execution_count": 4,
      "outputs": [
        {
          "output_type": "display_data",
          "data": {
            "text/html": [
              "<style>\n",
              ".dl-inline {width: auto; margin:0; padding: 0}\n",
              ".dl-inline>dt, .dl-inline>dd {float: none; width: auto; display: inline-block}\n",
              ".dl-inline>dt::after {content: \":\\0020\"; padding-right: .5ex}\n",
              ".dl-inline>dt:not(:first-of-type) {padding-left: .5ex}\n",
              "</style><dl class=dl-inline><dt>beer_servings</dt><dd>106.160621761658</dd><dt>spirit_servings</dt><dd>80.9948186528497</dd><dt>wine_servings</dt><dd>49.4507772020725</dd><dt>total_litres_of_pure_alcohol</dt><dd>4.71709844559586</dd></dl>\n"
            ],
            "text/markdown": "beer_servings\n:   106.160621761658spirit_servings\n:   80.9948186528497wine_servings\n:   49.4507772020725total_litres_of_pure_alcohol\n:   4.71709844559586\n\n",
            "text/latex": "\\begin{description*}\n\\item[beer\\textbackslash{}\\_servings] 106.160621761658\n\\item[spirit\\textbackslash{}\\_servings] 80.9948186528497\n\\item[wine\\textbackslash{}\\_servings] 49.4507772020725\n\\item[total\\textbackslash{}\\_litres\\textbackslash{}\\_of\\textbackslash{}\\_pure\\textbackslash{}\\_alcohol] 4.71709844559586\n\\end{description*}\n",
            "text/plain": [
              "               beer_servings              spirit_servings \n",
              "                  106.160622                    80.994819 \n",
              "               wine_servings total_litres_of_pure_alcohol \n",
              "                   49.450777                     4.717098 "
            ]
          },
          "metadata": {}
        }
      ]
    },
    {
      "cell_type": "code",
      "source": [
        "# Calculate standard deviations\n",
        "df_std <- apply(df[,-1],2,sd)\n",
        "df_m"
      ],
      "metadata": {
        "colab": {
          "base_uri": "https://localhost:8080/",
          "height": 34
        },
        "id": "GYz_MwxebV15",
        "outputId": "12b20a6d-e0f6-4b40-df05-52882e994a6c"
      },
      "execution_count": 5,
      "outputs": [
        {
          "output_type": "display_data",
          "data": {
            "text/html": [
              "<style>\n",
              ".dl-inline {width: auto; margin:0; padding: 0}\n",
              ".dl-inline>dt, .dl-inline>dd {float: none; width: auto; display: inline-block}\n",
              ".dl-inline>dt::after {content: \":\\0020\"; padding-right: .5ex}\n",
              ".dl-inline>dt:not(:first-of-type) {padding-left: .5ex}\n",
              "</style><dl class=dl-inline><dt>beer_servings</dt><dd>106.160621761658</dd><dt>spirit_servings</dt><dd>80.9948186528497</dd><dt>wine_servings</dt><dd>49.4507772020725</dd><dt>total_litres_of_pure_alcohol</dt><dd>4.71709844559586</dd></dl>\n"
            ],
            "text/markdown": "beer_servings\n:   106.160621761658spirit_servings\n:   80.9948186528497wine_servings\n:   49.4507772020725total_litres_of_pure_alcohol\n:   4.71709844559586\n\n",
            "text/latex": "\\begin{description*}\n\\item[beer\\textbackslash{}\\_servings] 106.160621761658\n\\item[spirit\\textbackslash{}\\_servings] 80.9948186528497\n\\item[wine\\textbackslash{}\\_servings] 49.4507772020725\n\\item[total\\textbackslash{}\\_litres\\textbackslash{}\\_of\\textbackslash{}\\_pure\\textbackslash{}\\_alcohol] 4.71709844559586\n\\end{description*}\n",
            "text/plain": [
              "               beer_servings              spirit_servings \n",
              "                  106.160622                    80.994819 \n",
              "               wine_servings total_litres_of_pure_alcohol \n",
              "                   49.450777                     4.717098 "
            ]
          },
          "metadata": {}
        }
      ]
    },
    {
      "cell_type": "markdown",
      "source": [
        "As the first column is formed by country names, the averages and the standard deviations are calculated disregarding the first column [,-1].\n",
        "\n",
        "The apply function can be used to find the standard deviations for all columns. Here 2 refers to the columns, to find the standard deviations for rows then we just need to replace this 2 with 1."
      ],
      "metadata": {
        "id": "DCOuttGJebWs"
      }
    },
    {
      "cell_type": "code",
      "source": [
        "# Average beer consumption\n",
        "df_m[\"beer_servings\"]"
      ],
      "metadata": {
        "colab": {
          "base_uri": "https://localhost:8080/",
          "height": 34
        },
        "id": "wtktWI2ebYWX",
        "outputId": "bb9cd8e0-d2fa-4ae1-c743-6df7289164c1"
      },
      "execution_count": 6,
      "outputs": [
        {
          "output_type": "display_data",
          "data": {
            "text/html": [
              "<strong>beer_servings:</strong> 106.160621761658"
            ],
            "text/markdown": "**beer_servings:** 106.160621761658",
            "text/latex": "\\textbf{beer\\textbackslash{}\\_servings:} 106.160621761658",
            "text/plain": [
              "beer_servings \n",
              "     106.1606 "
            ]
          },
          "metadata": {}
        }
      ]
    },
    {
      "cell_type": "code",
      "source": [
        "# Max liquor consumption value\n",
        "max(df[,\"spirit_servings\"])"
      ],
      "metadata": {
        "colab": {
          "base_uri": "https://localhost:8080/",
          "height": 34
        },
        "id": "R8nD9_qSbcAc",
        "outputId": "76b73054-742d-4c3a-9574-9890718c9749"
      },
      "execution_count": 7,
      "outputs": [
        {
          "output_type": "display_data",
          "data": {
            "text/html": [
              "438"
            ],
            "text/markdown": "438",
            "text/latex": "438",
            "text/plain": [
              "[1] 438"
            ]
          },
          "metadata": {}
        }
      ]
    },
    {
      "cell_type": "code",
      "source": [
        "# Min wine consumption value\n",
        "min(df[,\"wine_servings\"])"
      ],
      "metadata": {
        "colab": {
          "base_uri": "https://localhost:8080/",
          "height": 34
        },
        "id": "_BHMiK8Rbe70",
        "outputId": "3b1337ea-117a-4679-8046-77c37a7d4616"
      },
      "execution_count": 8,
      "outputs": [
        {
          "output_type": "display_data",
          "data": {
            "text/html": [
              "0"
            ],
            "text/markdown": "0",
            "text/latex": "0",
            "text/plain": [
              "[1] 0"
            ]
          },
          "metadata": {}
        }
      ]
    },
    {
      "cell_type": "code",
      "source": [
        "# Standard deviation of alcohol consumption\n",
        "df_std[\"total_litres_of_pure_alcohol\"]"
      ],
      "metadata": {
        "colab": {
          "base_uri": "https://localhost:8080/",
          "height": 34
        },
        "id": "sOesMoP6bkV9",
        "outputId": "6c9aadb4-f768-4dc9-c289-55432d2091c9"
      },
      "execution_count": 9,
      "outputs": [
        {
          "output_type": "display_data",
          "data": {
            "text/html": [
              "<strong>total_litres_of_pure_alcohol:</strong> 3.77329816435608"
            ],
            "text/markdown": "**total_litres_of_pure_alcohol:** 3.77329816435608",
            "text/latex": "\\textbf{total\\textbackslash{}\\_litres\\textbackslash{}\\_of\\textbackslash{}\\_pure\\textbackslash{}\\_alcohol:} 3.77329816435608",
            "text/plain": [
              "total_litres_of_pure_alcohol \n",
              "                    3.773298 "
            ]
          },
          "metadata": {}
        }
      ]
    },
    {
      "cell_type": "code",
      "source": [
        "# Some statistical measures\n",
        "summary(df)"
      ],
      "metadata": {
        "colab": {
          "base_uri": "https://localhost:8080/",
          "height": 260
        },
        "id": "D6sS-8d1bnWE",
        "outputId": "8a685a0d-17f3-4a97-c525-51aed263e112"
      },
      "execution_count": 10,
      "outputs": [
        {
          "output_type": "display_data",
          "data": {
            "text/plain": [
              "   country          beer_servings   spirit_servings  wine_servings   \n",
              " Length:193         Min.   :  0.0   Min.   :  0.00   Min.   :  0.00  \n",
              " Class :character   1st Qu.: 20.0   1st Qu.:  4.00   1st Qu.:  1.00  \n",
              " Mode  :character   Median : 76.0   Median : 56.00   Median :  8.00  \n",
              "                    Mean   :106.2   Mean   : 80.99   Mean   : 49.45  \n",
              "                    3rd Qu.:188.0   3rd Qu.:128.00   3rd Qu.: 59.00  \n",
              "                    Max.   :376.0   Max.   :438.00   Max.   :370.00  \n",
              " total_litres_of_pure_alcohol\n",
              " Min.   : 0.000              \n",
              " 1st Qu.: 1.300              \n",
              " Median : 4.200              \n",
              " Mean   : 4.717              \n",
              " 3rd Qu.: 7.200              \n",
              " Max.   :14.400              "
            ]
          },
          "metadata": {}
        }
      ]
    },
    {
      "cell_type": "markdown",
      "source": [
        "### 2. What is the consumption of liquor in France?"
      ],
      "metadata": {
        "id": "jNOgEV6Bes0V"
      }
    },
    {
      "cell_type": "code",
      "source": [
        "# Data on alcohol consumption in Brazil\n",
        "filter(df,country =='Brazil')"
      ],
      "metadata": {
        "colab": {
          "base_uri": "https://localhost:8080/",
          "height": 129
        },
        "id": "MFFVmfnwbot1",
        "outputId": "05dfd21c-abf0-4b38-93c1-0d95402d2116"
      },
      "execution_count": 11,
      "outputs": [
        {
          "output_type": "display_data",
          "data": {
            "text/html": [
              "<table class=\"dataframe\">\n",
              "<caption>A data.table: 1 × 5</caption>\n",
              "<thead>\n",
              "\t<tr><th scope=col>country</th><th scope=col>beer_servings</th><th scope=col>spirit_servings</th><th scope=col>wine_servings</th><th scope=col>total_litres_of_pure_alcohol</th></tr>\n",
              "\t<tr><th scope=col>&lt;chr&gt;</th><th scope=col>&lt;int&gt;</th><th scope=col>&lt;int&gt;</th><th scope=col>&lt;int&gt;</th><th scope=col>&lt;dbl&gt;</th></tr>\n",
              "</thead>\n",
              "<tbody>\n",
              "\t<tr><td>Brazil</td><td>245</td><td>145</td><td>16</td><td>7.2</td></tr>\n",
              "</tbody>\n",
              "</table>\n"
            ],
            "text/markdown": "\nA data.table: 1 × 5\n\n| country &lt;chr&gt; | beer_servings &lt;int&gt; | spirit_servings &lt;int&gt; | wine_servings &lt;int&gt; | total_litres_of_pure_alcohol &lt;dbl&gt; |\n|---|---|---|---|---|\n| Brazil | 245 | 145 | 16 | 7.2 |\n\n",
            "text/latex": "A data.table: 1 × 5\n\\begin{tabular}{lllll}\n country & beer\\_servings & spirit\\_servings & wine\\_servings & total\\_litres\\_of\\_pure\\_alcohol\\\\\n <chr> & <int> & <int> & <int> & <dbl>\\\\\n\\hline\n\t Brazil & 245 & 145 & 16 & 7.2\\\\\n\\end{tabular}\n",
            "text/plain": [
              "  country beer_servings spirit_servings wine_servings\n",
              "1 Brazil  245           145             16           \n",
              "  total_litres_of_pure_alcohol\n",
              "1 7.2                         "
            ]
          },
          "metadata": {}
        }
      ]
    },
    {
      "cell_type": "code",
      "source": [
        "# Consumption of liquor in France\n",
        "filter(df,country =='France')$spirit_servings"
      ],
      "metadata": {
        "colab": {
          "base_uri": "https://localhost:8080/",
          "height": 34
        },
        "id": "H-mh7YQMbrcb",
        "outputId": "354c0e9e-0485-44de-c7f7-7797f001a53a"
      },
      "execution_count": 12,
      "outputs": [
        {
          "output_type": "display_data",
          "data": {
            "text/html": [
              "151"
            ],
            "text/markdown": "151",
            "text/latex": "151",
            "text/plain": [
              "[1] 151"
            ]
          },
          "metadata": {}
        }
      ]
    },
    {
      "cell_type": "markdown",
      "source": [
        "### 3. What are the 5 countries where the most wine is consumed?"
      ],
      "metadata": {
        "id": "lR8nHBcJe2Jq"
      }
    },
    {
      "cell_type": "code",
      "source": [
        "df[order(-df$wine_servings)][1:5]$country"
      ],
      "metadata": {
        "colab": {
          "base_uri": "https://localhost:8080/",
          "height": 34
        },
        "id": "-7VdNK1dbtv3",
        "outputId": "542efa3f-970e-4704-91b4-46cb0dc639b9"
      },
      "execution_count": 13,
      "outputs": [
        {
          "output_type": "display_data",
          "data": {
            "text/html": [
              "<style>\n",
              ".list-inline {list-style: none; margin:0; padding: 0}\n",
              ".list-inline>li {display: inline-block}\n",
              ".list-inline>li:not(:last-child)::after {content: \"\\00b7\"; padding: 0 .5ex}\n",
              "</style>\n",
              "<ol class=list-inline><li>'France'</li><li>'Portugal'</li><li>'Andorra'</li><li>'Switzerland'</li><li>'Denmark'</li></ol>\n"
            ],
            "text/markdown": "1. 'France'\n2. 'Portugal'\n3. 'Andorra'\n4. 'Switzerland'\n5. 'Denmark'\n\n\n",
            "text/latex": "\\begin{enumerate*}\n\\item 'France'\n\\item 'Portugal'\n\\item 'Andorra'\n\\item 'Switzerland'\n\\item 'Denmark'\n\\end{enumerate*}\n",
            "text/plain": [
              "[1] \"France\"      \"Portugal\"    \"Andorra\"     \"Switzerland\" \"Denmark\"    "
            ]
          },
          "metadata": {}
        }
      ]
    },
    {
      "cell_type": "markdown",
      "source": [
        "To sort a data frame in R, you can use the ``order()`` function. By default, sorting is ASCENDING. The minus sign it's used to indicate DESCENDING order.\n",
        "\n",
        "The [1:5] indicate that we want only the first five values and $country to show only the countries names."
      ],
      "metadata": {
        "id": "5n3LlvEHfKcy"
      }
    },
    {
      "cell_type": "markdown",
      "source": [
        "### 4. In which countries beer consumption is above average?"
      ],
      "metadata": {
        "id": "axh14DSEfdw9"
      }
    },
    {
      "cell_type": "code",
      "source": [
        "# Countries whose total alcohol consumption is greater than or equal to 12 liters per person\n",
        "filter(df,total_litres_of_pure_alcohol >= 12)"
      ],
      "metadata": {
        "colab": {
          "base_uri": "https://localhost:8080/",
          "height": 192
        },
        "id": "CP1wXq-1bwxW",
        "outputId": "0c5b1720-953e-4484-c487-7cf4b9dbcd13"
      },
      "execution_count": 14,
      "outputs": [
        {
          "output_type": "display_data",
          "data": {
            "text/html": [
              "<table class=\"dataframe\">\n",
              "<caption>A data.table: 3 × 5</caption>\n",
              "<thead>\n",
              "\t<tr><th scope=col>country</th><th scope=col>beer_servings</th><th scope=col>spirit_servings</th><th scope=col>wine_servings</th><th scope=col>total_litres_of_pure_alcohol</th></tr>\n",
              "\t<tr><th scope=col>&lt;chr&gt;</th><th scope=col>&lt;int&gt;</th><th scope=col>&lt;int&gt;</th><th scope=col>&lt;int&gt;</th><th scope=col>&lt;dbl&gt;</th></tr>\n",
              "</thead>\n",
              "<tbody>\n",
              "\t<tr><td>Andorra  </td><td>245</td><td>138</td><td>312</td><td>12.4</td></tr>\n",
              "\t<tr><td>Belarus  </td><td>142</td><td>373</td><td> 42</td><td>14.4</td></tr>\n",
              "\t<tr><td>Lithuania</td><td>343</td><td>244</td><td> 56</td><td>12.9</td></tr>\n",
              "</tbody>\n",
              "</table>\n"
            ],
            "text/markdown": "\nA data.table: 3 × 5\n\n| country &lt;chr&gt; | beer_servings &lt;int&gt; | spirit_servings &lt;int&gt; | wine_servings &lt;int&gt; | total_litres_of_pure_alcohol &lt;dbl&gt; |\n|---|---|---|---|---|\n| Andorra   | 245 | 138 | 312 | 12.4 |\n| Belarus   | 142 | 373 |  42 | 14.4 |\n| Lithuania | 343 | 244 |  56 | 12.9 |\n\n",
            "text/latex": "A data.table: 3 × 5\n\\begin{tabular}{lllll}\n country & beer\\_servings & spirit\\_servings & wine\\_servings & total\\_litres\\_of\\_pure\\_alcohol\\\\\n <chr> & <int> & <int> & <int> & <dbl>\\\\\n\\hline\n\t Andorra   & 245 & 138 & 312 & 12.4\\\\\n\t Belarus   & 142 & 373 &  42 & 14.4\\\\\n\t Lithuania & 343 & 244 &  56 & 12.9\\\\\n\\end{tabular}\n",
            "text/plain": [
              "  country   beer_servings spirit_servings wine_servings\n",
              "1 Andorra   245           138             312          \n",
              "2 Belarus   142           373              42          \n",
              "3 Lithuania 343           244              56          \n",
              "  total_litres_of_pure_alcohol\n",
              "1 12.4                        \n",
              "2 14.4                        \n",
              "3 12.9                        "
            ]
          },
          "metadata": {}
        }
      ]
    },
    {
      "cell_type": "code",
      "source": [
        "# df_m[\"beer_servings\"] is the average beer consumption\n",
        "filter(df,beer_servings > df_m[\"beer_servings\"])$country"
      ],
      "metadata": {
        "colab": {
          "base_uri": "https://localhost:8080/",
          "height": 86
        },
        "id": "Dlhq2m8Lb08j",
        "outputId": "9d51f39e-f9a5-4ce6-cb36-1776ba65dbe4"
      },
      "execution_count": 15,
      "outputs": [
        {
          "output_type": "display_data",
          "data": {
            "text/html": [
              "<style>\n",
              ".list-inline {list-style: none; margin:0; padding: 0}\n",
              ".list-inline>li {display: inline-block}\n",
              ".list-inline>li:not(:last-child)::after {content: \"\\00b7\"; padding: 0 .5ex}\n",
              "</style>\n",
              "<ol class=list-inline><li>'Andorra'</li><li>'Angola'</li><li>'Argentina'</li><li>'Australia'</li><li>'Austria'</li><li>'Bahamas'</li><li>'Barbados'</li><li>'Belarus'</li><li>'Belgium'</li><li>'Belize'</li><li>'Bolivia'</li><li>'Botswana'</li><li>'Brazil'</li><li>'Bulgaria'</li><li>'Cabo Verde'</li><li>'Cameroon'</li><li>'Canada'</li><li>'Chile'</li><li>'Colombia'</li><li>'Costa Rica'</li><li>'Croatia'</li><li>'Cyprus'</li><li>'Czech Republic'</li><li>'Denmark'</li><li>'Dominican Republic'</li><li>'Ecuador'</li><li>'Estonia'</li><li>'Finland'</li><li>'France'</li><li>'Gabon'</li><li>'Germany'</li><li>'Greece'</li><li>'Grenada'</li><li>'Hungary'</li><li>'Iceland'</li><li>'Ireland'</li><li>'Kazakhstan'</li><li>'Latvia'</li><li>'Lithuania'</li><li>'Luxembourg'</li><li>'Malta'</li><li>'Mexico'</li><li>'Namibia'</li><li>'Netherlands'</li><li>'New Zealand'</li><li>'Niue'</li><li>'Norway'</li><li>'Palau'</li><li>'Panama'</li><li>'Paraguay'</li><li>'Peru'</li><li>'Poland'</li><li>'Portugal'</li><li>'South Korea'</li><li>'Moldova'</li><li>'Romania'</li><li>'Russian Federation'</li><li>'St. Kitts &amp; Nevis'</li><li>'St. Lucia'</li><li>'St. Vincent &amp; the Grenadines'</li><li>'Serbia'</li><li>'Seychelles'</li><li>'Slovakia'</li><li>'Slovenia'</li><li>'South Africa'</li><li>'Spain'</li><li>'Suriname'</li><li>'Sweden'</li><li>'Switzerland'</li><li>'Trinidad &amp; Tobago'</li><li>'Ukraine'</li><li>'United Kingdom'</li><li>'USA'</li><li>'Uruguay'</li><li>'Venezuela'</li><li>'Vietnam'</li></ol>\n"
            ],
            "text/markdown": "1. 'Andorra'\n2. 'Angola'\n3. 'Argentina'\n4. 'Australia'\n5. 'Austria'\n6. 'Bahamas'\n7. 'Barbados'\n8. 'Belarus'\n9. 'Belgium'\n10. 'Belize'\n11. 'Bolivia'\n12. 'Botswana'\n13. 'Brazil'\n14. 'Bulgaria'\n15. 'Cabo Verde'\n16. 'Cameroon'\n17. 'Canada'\n18. 'Chile'\n19. 'Colombia'\n20. 'Costa Rica'\n21. 'Croatia'\n22. 'Cyprus'\n23. 'Czech Republic'\n24. 'Denmark'\n25. 'Dominican Republic'\n26. 'Ecuador'\n27. 'Estonia'\n28. 'Finland'\n29. 'France'\n30. 'Gabon'\n31. 'Germany'\n32. 'Greece'\n33. 'Grenada'\n34. 'Hungary'\n35. 'Iceland'\n36. 'Ireland'\n37. 'Kazakhstan'\n38. 'Latvia'\n39. 'Lithuania'\n40. 'Luxembourg'\n41. 'Malta'\n42. 'Mexico'\n43. 'Namibia'\n44. 'Netherlands'\n45. 'New Zealand'\n46. 'Niue'\n47. 'Norway'\n48. 'Palau'\n49. 'Panama'\n50. 'Paraguay'\n51. 'Peru'\n52. 'Poland'\n53. 'Portugal'\n54. 'South Korea'\n55. 'Moldova'\n56. 'Romania'\n57. 'Russian Federation'\n58. 'St. Kitts &amp; Nevis'\n59. 'St. Lucia'\n60. 'St. Vincent &amp; the Grenadines'\n61. 'Serbia'\n62. 'Seychelles'\n63. 'Slovakia'\n64. 'Slovenia'\n65. 'South Africa'\n66. 'Spain'\n67. 'Suriname'\n68. 'Sweden'\n69. 'Switzerland'\n70. 'Trinidad &amp; Tobago'\n71. 'Ukraine'\n72. 'United Kingdom'\n73. 'USA'\n74. 'Uruguay'\n75. 'Venezuela'\n76. 'Vietnam'\n\n\n",
            "text/latex": "\\begin{enumerate*}\n\\item 'Andorra'\n\\item 'Angola'\n\\item 'Argentina'\n\\item 'Australia'\n\\item 'Austria'\n\\item 'Bahamas'\n\\item 'Barbados'\n\\item 'Belarus'\n\\item 'Belgium'\n\\item 'Belize'\n\\item 'Bolivia'\n\\item 'Botswana'\n\\item 'Brazil'\n\\item 'Bulgaria'\n\\item 'Cabo Verde'\n\\item 'Cameroon'\n\\item 'Canada'\n\\item 'Chile'\n\\item 'Colombia'\n\\item 'Costa Rica'\n\\item 'Croatia'\n\\item 'Cyprus'\n\\item 'Czech Republic'\n\\item 'Denmark'\n\\item 'Dominican Republic'\n\\item 'Ecuador'\n\\item 'Estonia'\n\\item 'Finland'\n\\item 'France'\n\\item 'Gabon'\n\\item 'Germany'\n\\item 'Greece'\n\\item 'Grenada'\n\\item 'Hungary'\n\\item 'Iceland'\n\\item 'Ireland'\n\\item 'Kazakhstan'\n\\item 'Latvia'\n\\item 'Lithuania'\n\\item 'Luxembourg'\n\\item 'Malta'\n\\item 'Mexico'\n\\item 'Namibia'\n\\item 'Netherlands'\n\\item 'New Zealand'\n\\item 'Niue'\n\\item 'Norway'\n\\item 'Palau'\n\\item 'Panama'\n\\item 'Paraguay'\n\\item 'Peru'\n\\item 'Poland'\n\\item 'Portugal'\n\\item 'South Korea'\n\\item 'Moldova'\n\\item 'Romania'\n\\item 'Russian Federation'\n\\item 'St. Kitts \\& Nevis'\n\\item 'St. Lucia'\n\\item 'St. Vincent \\& the Grenadines'\n\\item 'Serbia'\n\\item 'Seychelles'\n\\item 'Slovakia'\n\\item 'Slovenia'\n\\item 'South Africa'\n\\item 'Spain'\n\\item 'Suriname'\n\\item 'Sweden'\n\\item 'Switzerland'\n\\item 'Trinidad \\& Tobago'\n\\item 'Ukraine'\n\\item 'United Kingdom'\n\\item 'USA'\n\\item 'Uruguay'\n\\item 'Venezuela'\n\\item 'Vietnam'\n\\end{enumerate*}\n",
            "text/plain": [
              " [1] \"Andorra\"                      \"Angola\"                      \n",
              " [3] \"Argentina\"                    \"Australia\"                   \n",
              " [5] \"Austria\"                      \"Bahamas\"                     \n",
              " [7] \"Barbados\"                     \"Belarus\"                     \n",
              " [9] \"Belgium\"                      \"Belize\"                      \n",
              "[11] \"Bolivia\"                      \"Botswana\"                    \n",
              "[13] \"Brazil\"                       \"Bulgaria\"                    \n",
              "[15] \"Cabo Verde\"                   \"Cameroon\"                    \n",
              "[17] \"Canada\"                       \"Chile\"                       \n",
              "[19] \"Colombia\"                     \"Costa Rica\"                  \n",
              "[21] \"Croatia\"                      \"Cyprus\"                      \n",
              "[23] \"Czech Republic\"               \"Denmark\"                     \n",
              "[25] \"Dominican Republic\"           \"Ecuador\"                     \n",
              "[27] \"Estonia\"                      \"Finland\"                     \n",
              "[29] \"France\"                       \"Gabon\"                       \n",
              "[31] \"Germany\"                      \"Greece\"                      \n",
              "[33] \"Grenada\"                      \"Hungary\"                     \n",
              "[35] \"Iceland\"                      \"Ireland\"                     \n",
              "[37] \"Kazakhstan\"                   \"Latvia\"                      \n",
              "[39] \"Lithuania\"                    \"Luxembourg\"                  \n",
              "[41] \"Malta\"                        \"Mexico\"                      \n",
              "[43] \"Namibia\"                      \"Netherlands\"                 \n",
              "[45] \"New Zealand\"                  \"Niue\"                        \n",
              "[47] \"Norway\"                       \"Palau\"                       \n",
              "[49] \"Panama\"                       \"Paraguay\"                    \n",
              "[51] \"Peru\"                         \"Poland\"                      \n",
              "[53] \"Portugal\"                     \"South Korea\"                 \n",
              "[55] \"Moldova\"                      \"Romania\"                     \n",
              "[57] \"Russian Federation\"           \"St. Kitts & Nevis\"           \n",
              "[59] \"St. Lucia\"                    \"St. Vincent & the Grenadines\"\n",
              "[61] \"Serbia\"                       \"Seychelles\"                  \n",
              "[63] \"Slovakia\"                     \"Slovenia\"                    \n",
              "[65] \"South Africa\"                 \"Spain\"                       \n",
              "[67] \"Suriname\"                     \"Sweden\"                      \n",
              "[69] \"Switzerland\"                  \"Trinidad & Tobago\"           \n",
              "[71] \"Ukraine\"                      \"United Kingdom\"              \n",
              "[73] \"USA\"                          \"Uruguay\"                     \n",
              "[75] \"Venezuela\"                    \"Vietnam\"                     "
            ]
          },
          "metadata": {}
        }
      ]
    },
    {
      "cell_type": "markdown",
      "source": [
        "### 5. Which countries in which total alcohol consumption is higher than Brazil, in order of lowest to highest?"
      ],
      "metadata": {
        "id": "TeAPnzkFfmxs"
      }
    },
    {
      "cell_type": "code",
      "source": [
        "# Total alcohol consumption in Brazil\n",
        "alcool_brasil <-filter(df,country == 'Brazil')$total_litres_of_pure_alcohol\n",
        "alcool_brasil"
      ],
      "metadata": {
        "colab": {
          "base_uri": "https://localhost:8080/",
          "height": 34
        },
        "id": "JG4q_0wHb5kZ",
        "outputId": "517e20bb-22bf-4ab8-9dd7-3b4919565412"
      },
      "execution_count": 16,
      "outputs": [
        {
          "output_type": "display_data",
          "data": {
            "text/html": [
              "7.2"
            ],
            "text/markdown": "7.2",
            "text/latex": "7.2",
            "text/plain": [
              "[1] 7.2"
            ]
          },
          "metadata": {}
        }
      ]
    },
    {
      "cell_type": "code",
      "source": [
        "# Countries with higher consumption than Brazil\n",
        "df_alcool <- filter(df,total_litres_of_pure_alcohol > alcool_brasil)\n",
        "# Sort from lowest to highest\n",
        "df_alcool[order(df_alcool$total_litres_of_pure_alcohol)]\n",
        "df_alcool"
      ],
      "metadata": {
        "colab": {
          "base_uri": "https://localhost:8080/",
          "height": 1000
        },
        "id": "sBU5gMQrb62b",
        "outputId": "94ffa0f9-ec9e-4da9-d97f-b554d38e5fba"
      },
      "execution_count": 17,
      "outputs": [
        {
          "output_type": "display_data",
          "data": {
            "text/html": [
              "<table class=\"dataframe\">\n",
              "<caption>A data.table: 47 × 5</caption>\n",
              "<thead>\n",
              "\t<tr><th scope=col>country</th><th scope=col>beer_servings</th><th scope=col>spirit_servings</th><th scope=col>wine_servings</th><th scope=col>total_litres_of_pure_alcohol</th></tr>\n",
              "\t<tr><th scope=col>&lt;chr&gt;</th><th scope=col>&lt;int&gt;</th><th scope=col>&lt;int&gt;</th><th scope=col>&lt;int&gt;</th><th scope=col>&lt;dbl&gt;</th></tr>\n",
              "</thead>\n",
              "<tbody>\n",
              "\t<tr><td>Paraguay          </td><td>213</td><td>117</td><td> 74</td><td> 7.3</td></tr>\n",
              "\t<tr><td>Chile             </td><td>130</td><td>124</td><td>172</td><td> 7.6</td></tr>\n",
              "\t<tr><td>St. Kitts &amp; Nevis </td><td>194</td><td>205</td><td> 32</td><td> 7.7</td></tr>\n",
              "\t<tr><td>Venezuela         </td><td>333</td><td>100</td><td>  3</td><td> 7.7</td></tr>\n",
              "\t<tr><td>Canada            </td><td>240</td><td>122</td><td>100</td><td> 8.2</td></tr>\n",
              "\t<tr><td>Cyprus            </td><td>192</td><td>154</td><td>113</td><td> 8.2</td></tr>\n",
              "\t<tr><td>South Africa      </td><td>225</td><td> 76</td><td> 81</td><td> 8.2</td></tr>\n",
              "\t<tr><td>Argentina         </td><td>193</td><td> 25</td><td>221</td><td> 8.3</td></tr>\n",
              "\t<tr><td>Greece            </td><td>133</td><td>112</td><td>218</td><td> 8.3</td></tr>\n",
              "\t<tr><td>Uganda            </td><td> 45</td><td>  9</td><td>  0</td><td> 8.3</td></tr>\n",
              "\t<tr><td>USA               </td><td>249</td><td>158</td><td> 84</td><td> 8.7</td></tr>\n",
              "\t<tr><td>Gabon             </td><td>347</td><td> 98</td><td> 59</td><td> 8.9</td></tr>\n",
              "\t<tr><td>Ukraine           </td><td>206</td><td>237</td><td> 45</td><td> 8.9</td></tr>\n",
              "\t<tr><td>Nigeria           </td><td> 42</td><td>  5</td><td>  2</td><td> 9.1</td></tr>\n",
              "\t<tr><td>New Zealand       </td><td>203</td><td> 79</td><td>175</td><td> 9.3</td></tr>\n",
              "\t<tr><td>Netherlands       </td><td>251</td><td> 88</td><td>190</td><td> 9.4</td></tr>\n",
              "\t<tr><td>Estonia           </td><td>224</td><td>194</td><td> 59</td><td> 9.5</td></tr>\n",
              "\t<tr><td>Serbia            </td><td>283</td><td>131</td><td>127</td><td> 9.6</td></tr>\n",
              "\t<tr><td>Austria           </td><td>279</td><td> 75</td><td>191</td><td> 9.7</td></tr>\n",
              "\t<tr><td>South Korea       </td><td>140</td><td> 16</td><td>  9</td><td> 9.8</td></tr>\n",
              "\t<tr><td>Finland           </td><td>263</td><td>133</td><td> 97</td><td>10.0</td></tr>\n",
              "\t<tr><td>Spain             </td><td>284</td><td>157</td><td>112</td><td>10.0</td></tr>\n",
              "\t<tr><td>St. Lucia         </td><td>171</td><td>315</td><td> 71</td><td>10.1</td></tr>\n",
              "\t<tr><td>Croatia           </td><td>230</td><td> 87</td><td>254</td><td>10.2</td></tr>\n",
              "\t<tr><td>Switzerland       </td><td>185</td><td>100</td><td>280</td><td>10.2</td></tr>\n",
              "\t<tr><td>Bulgaria          </td><td>231</td><td>252</td><td> 94</td><td>10.3</td></tr>\n",
              "\t<tr><td>Australia         </td><td>261</td><td> 72</td><td>212</td><td>10.4</td></tr>\n",
              "\t<tr><td>Denmark           </td><td>224</td><td> 81</td><td>278</td><td>10.4</td></tr>\n",
              "\t<tr><td>Romania           </td><td>297</td><td>122</td><td>167</td><td>10.4</td></tr>\n",
              "\t<tr><td>United Kingdom    </td><td>219</td><td>126</td><td>195</td><td>10.4</td></tr>\n",
              "\t<tr><td>Belgium           </td><td>295</td><td> 84</td><td>212</td><td>10.5</td></tr>\n",
              "\t<tr><td>Latvia            </td><td>281</td><td>216</td><td> 62</td><td>10.5</td></tr>\n",
              "\t<tr><td>Slovenia          </td><td>270</td><td> 51</td><td>276</td><td>10.6</td></tr>\n",
              "\t<tr><td>Poland            </td><td>343</td><td>215</td><td> 56</td><td>10.9</td></tr>\n",
              "\t<tr><td>Portugal          </td><td>194</td><td> 67</td><td>339</td><td>11.0</td></tr>\n",
              "\t<tr><td>Germany           </td><td>346</td><td>117</td><td>175</td><td>11.3</td></tr>\n",
              "\t<tr><td>Hungary           </td><td>234</td><td>215</td><td>185</td><td>11.3</td></tr>\n",
              "\t<tr><td>Ireland           </td><td>313</td><td>118</td><td>165</td><td>11.4</td></tr>\n",
              "\t<tr><td>Luxembourg        </td><td>236</td><td>133</td><td>271</td><td>11.4</td></tr>\n",
              "\t<tr><td>Slovakia          </td><td>196</td><td>293</td><td>116</td><td>11.4</td></tr>\n",
              "\t<tr><td>Russian Federation</td><td>247</td><td>326</td><td> 73</td><td>11.5</td></tr>\n",
              "\t<tr><td>Czech Republic    </td><td>361</td><td>170</td><td>134</td><td>11.8</td></tr>\n",
              "\t<tr><td>France            </td><td>127</td><td>151</td><td>370</td><td>11.8</td></tr>\n",
              "\t<tr><td>Grenada           </td><td>199</td><td>438</td><td> 28</td><td>11.9</td></tr>\n",
              "\t<tr><td>Andorra           </td><td>245</td><td>138</td><td>312</td><td>12.4</td></tr>\n",
              "\t<tr><td>Lithuania         </td><td>343</td><td>244</td><td> 56</td><td>12.9</td></tr>\n",
              "\t<tr><td>Belarus           </td><td>142</td><td>373</td><td> 42</td><td>14.4</td></tr>\n",
              "</tbody>\n",
              "</table>\n"
            ],
            "text/markdown": "\nA data.table: 47 × 5\n\n| country &lt;chr&gt; | beer_servings &lt;int&gt; | spirit_servings &lt;int&gt; | wine_servings &lt;int&gt; | total_litres_of_pure_alcohol &lt;dbl&gt; |\n|---|---|---|---|---|\n| Paraguay           | 213 | 117 |  74 |  7.3 |\n| Chile              | 130 | 124 | 172 |  7.6 |\n| St. Kitts &amp; Nevis  | 194 | 205 |  32 |  7.7 |\n| Venezuela          | 333 | 100 |   3 |  7.7 |\n| Canada             | 240 | 122 | 100 |  8.2 |\n| Cyprus             | 192 | 154 | 113 |  8.2 |\n| South Africa       | 225 |  76 |  81 |  8.2 |\n| Argentina          | 193 |  25 | 221 |  8.3 |\n| Greece             | 133 | 112 | 218 |  8.3 |\n| Uganda             |  45 |   9 |   0 |  8.3 |\n| USA                | 249 | 158 |  84 |  8.7 |\n| Gabon              | 347 |  98 |  59 |  8.9 |\n| Ukraine            | 206 | 237 |  45 |  8.9 |\n| Nigeria            |  42 |   5 |   2 |  9.1 |\n| New Zealand        | 203 |  79 | 175 |  9.3 |\n| Netherlands        | 251 |  88 | 190 |  9.4 |\n| Estonia            | 224 | 194 |  59 |  9.5 |\n| Serbia             | 283 | 131 | 127 |  9.6 |\n| Austria            | 279 |  75 | 191 |  9.7 |\n| South Korea        | 140 |  16 |   9 |  9.8 |\n| Finland            | 263 | 133 |  97 | 10.0 |\n| Spain              | 284 | 157 | 112 | 10.0 |\n| St. Lucia          | 171 | 315 |  71 | 10.1 |\n| Croatia            | 230 |  87 | 254 | 10.2 |\n| Switzerland        | 185 | 100 | 280 | 10.2 |\n| Bulgaria           | 231 | 252 |  94 | 10.3 |\n| Australia          | 261 |  72 | 212 | 10.4 |\n| Denmark            | 224 |  81 | 278 | 10.4 |\n| Romania            | 297 | 122 | 167 | 10.4 |\n| United Kingdom     | 219 | 126 | 195 | 10.4 |\n| Belgium            | 295 |  84 | 212 | 10.5 |\n| Latvia             | 281 | 216 |  62 | 10.5 |\n| Slovenia           | 270 |  51 | 276 | 10.6 |\n| Poland             | 343 | 215 |  56 | 10.9 |\n| Portugal           | 194 |  67 | 339 | 11.0 |\n| Germany            | 346 | 117 | 175 | 11.3 |\n| Hungary            | 234 | 215 | 185 | 11.3 |\n| Ireland            | 313 | 118 | 165 | 11.4 |\n| Luxembourg         | 236 | 133 | 271 | 11.4 |\n| Slovakia           | 196 | 293 | 116 | 11.4 |\n| Russian Federation | 247 | 326 |  73 | 11.5 |\n| Czech Republic     | 361 | 170 | 134 | 11.8 |\n| France             | 127 | 151 | 370 | 11.8 |\n| Grenada            | 199 | 438 |  28 | 11.9 |\n| Andorra            | 245 | 138 | 312 | 12.4 |\n| Lithuania          | 343 | 244 |  56 | 12.9 |\n| Belarus            | 142 | 373 |  42 | 14.4 |\n\n",
            "text/latex": "A data.table: 47 × 5\n\\begin{tabular}{lllll}\n country & beer\\_servings & spirit\\_servings & wine\\_servings & total\\_litres\\_of\\_pure\\_alcohol\\\\\n <chr> & <int> & <int> & <int> & <dbl>\\\\\n\\hline\n\t Paraguay           & 213 & 117 &  74 &  7.3\\\\\n\t Chile              & 130 & 124 & 172 &  7.6\\\\\n\t St. Kitts \\& Nevis  & 194 & 205 &  32 &  7.7\\\\\n\t Venezuela          & 333 & 100 &   3 &  7.7\\\\\n\t Canada             & 240 & 122 & 100 &  8.2\\\\\n\t Cyprus             & 192 & 154 & 113 &  8.2\\\\\n\t South Africa       & 225 &  76 &  81 &  8.2\\\\\n\t Argentina          & 193 &  25 & 221 &  8.3\\\\\n\t Greece             & 133 & 112 & 218 &  8.3\\\\\n\t Uganda             &  45 &   9 &   0 &  8.3\\\\\n\t USA                & 249 & 158 &  84 &  8.7\\\\\n\t Gabon              & 347 &  98 &  59 &  8.9\\\\\n\t Ukraine            & 206 & 237 &  45 &  8.9\\\\\n\t Nigeria            &  42 &   5 &   2 &  9.1\\\\\n\t New Zealand        & 203 &  79 & 175 &  9.3\\\\\n\t Netherlands        & 251 &  88 & 190 &  9.4\\\\\n\t Estonia            & 224 & 194 &  59 &  9.5\\\\\n\t Serbia             & 283 & 131 & 127 &  9.6\\\\\n\t Austria            & 279 &  75 & 191 &  9.7\\\\\n\t South Korea        & 140 &  16 &   9 &  9.8\\\\\n\t Finland            & 263 & 133 &  97 & 10.0\\\\\n\t Spain              & 284 & 157 & 112 & 10.0\\\\\n\t St. Lucia          & 171 & 315 &  71 & 10.1\\\\\n\t Croatia            & 230 &  87 & 254 & 10.2\\\\\n\t Switzerland        & 185 & 100 & 280 & 10.2\\\\\n\t Bulgaria           & 231 & 252 &  94 & 10.3\\\\\n\t Australia          & 261 &  72 & 212 & 10.4\\\\\n\t Denmark            & 224 &  81 & 278 & 10.4\\\\\n\t Romania            & 297 & 122 & 167 & 10.4\\\\\n\t United Kingdom     & 219 & 126 & 195 & 10.4\\\\\n\t Belgium            & 295 &  84 & 212 & 10.5\\\\\n\t Latvia             & 281 & 216 &  62 & 10.5\\\\\n\t Slovenia           & 270 &  51 & 276 & 10.6\\\\\n\t Poland             & 343 & 215 &  56 & 10.9\\\\\n\t Portugal           & 194 &  67 & 339 & 11.0\\\\\n\t Germany            & 346 & 117 & 175 & 11.3\\\\\n\t Hungary            & 234 & 215 & 185 & 11.3\\\\\n\t Ireland            & 313 & 118 & 165 & 11.4\\\\\n\t Luxembourg         & 236 & 133 & 271 & 11.4\\\\\n\t Slovakia           & 196 & 293 & 116 & 11.4\\\\\n\t Russian Federation & 247 & 326 &  73 & 11.5\\\\\n\t Czech Republic     & 361 & 170 & 134 & 11.8\\\\\n\t France             & 127 & 151 & 370 & 11.8\\\\\n\t Grenada            & 199 & 438 &  28 & 11.9\\\\\n\t Andorra            & 245 & 138 & 312 & 12.4\\\\\n\t Lithuania          & 343 & 244 &  56 & 12.9\\\\\n\t Belarus            & 142 & 373 &  42 & 14.4\\\\\n\\end{tabular}\n",
            "text/plain": [
              "   country            beer_servings spirit_servings wine_servings\n",
              "1  Paraguay           213           117              74          \n",
              "2  Chile              130           124             172          \n",
              "3  St. Kitts & Nevis  194           205              32          \n",
              "4  Venezuela          333           100               3          \n",
              "5  Canada             240           122             100          \n",
              "6  Cyprus             192           154             113          \n",
              "7  South Africa       225            76              81          \n",
              "8  Argentina          193            25             221          \n",
              "9  Greece             133           112             218          \n",
              "10 Uganda              45             9               0          \n",
              "11 USA                249           158              84          \n",
              "12 Gabon              347            98              59          \n",
              "13 Ukraine            206           237              45          \n",
              "14 Nigeria             42             5               2          \n",
              "15 New Zealand        203            79             175          \n",
              "16 Netherlands        251            88             190          \n",
              "17 Estonia            224           194              59          \n",
              "18 Serbia             283           131             127          \n",
              "19 Austria            279            75             191          \n",
              "20 South Korea        140            16               9          \n",
              "21 Finland            263           133              97          \n",
              "22 Spain              284           157             112          \n",
              "23 St. Lucia          171           315              71          \n",
              "24 Croatia            230            87             254          \n",
              "25 Switzerland        185           100             280          \n",
              "26 Bulgaria           231           252              94          \n",
              "27 Australia          261            72             212          \n",
              "28 Denmark            224            81             278          \n",
              "29 Romania            297           122             167          \n",
              "30 United Kingdom     219           126             195          \n",
              "31 Belgium            295            84             212          \n",
              "32 Latvia             281           216              62          \n",
              "33 Slovenia           270            51             276          \n",
              "34 Poland             343           215              56          \n",
              "35 Portugal           194            67             339          \n",
              "36 Germany            346           117             175          \n",
              "37 Hungary            234           215             185          \n",
              "38 Ireland            313           118             165          \n",
              "39 Luxembourg         236           133             271          \n",
              "40 Slovakia           196           293             116          \n",
              "41 Russian Federation 247           326              73          \n",
              "42 Czech Republic     361           170             134          \n",
              "43 France             127           151             370          \n",
              "44 Grenada            199           438              28          \n",
              "45 Andorra            245           138             312          \n",
              "46 Lithuania          343           244              56          \n",
              "47 Belarus            142           373              42          \n",
              "   total_litres_of_pure_alcohol\n",
              "1   7.3                        \n",
              "2   7.6                        \n",
              "3   7.7                        \n",
              "4   7.7                        \n",
              "5   8.2                        \n",
              "6   8.2                        \n",
              "7   8.2                        \n",
              "8   8.3                        \n",
              "9   8.3                        \n",
              "10  8.3                        \n",
              "11  8.7                        \n",
              "12  8.9                        \n",
              "13  8.9                        \n",
              "14  9.1                        \n",
              "15  9.3                        \n",
              "16  9.4                        \n",
              "17  9.5                        \n",
              "18  9.6                        \n",
              "19  9.7                        \n",
              "20  9.8                        \n",
              "21 10.0                        \n",
              "22 10.0                        \n",
              "23 10.1                        \n",
              "24 10.2                        \n",
              "25 10.2                        \n",
              "26 10.3                        \n",
              "27 10.4                        \n",
              "28 10.4                        \n",
              "29 10.4                        \n",
              "30 10.4                        \n",
              "31 10.5                        \n",
              "32 10.5                        \n",
              "33 10.6                        \n",
              "34 10.9                        \n",
              "35 11.0                        \n",
              "36 11.3                        \n",
              "37 11.3                        \n",
              "38 11.4                        \n",
              "39 11.4                        \n",
              "40 11.4                        \n",
              "41 11.5                        \n",
              "42 11.8                        \n",
              "43 11.8                        \n",
              "44 11.9                        \n",
              "45 12.4                        \n",
              "46 12.9                        \n",
              "47 14.4                        "
            ]
          },
          "metadata": {}
        },
        {
          "output_type": "display_data",
          "data": {
            "text/html": [
              "<table class=\"dataframe\">\n",
              "<caption>A data.table: 47 × 5</caption>\n",
              "<thead>\n",
              "\t<tr><th scope=col>country</th><th scope=col>beer_servings</th><th scope=col>spirit_servings</th><th scope=col>wine_servings</th><th scope=col>total_litres_of_pure_alcohol</th></tr>\n",
              "\t<tr><th scope=col>&lt;chr&gt;</th><th scope=col>&lt;int&gt;</th><th scope=col>&lt;int&gt;</th><th scope=col>&lt;int&gt;</th><th scope=col>&lt;dbl&gt;</th></tr>\n",
              "</thead>\n",
              "<tbody>\n",
              "\t<tr><td>Andorra           </td><td>245</td><td>138</td><td>312</td><td>12.4</td></tr>\n",
              "\t<tr><td>Argentina         </td><td>193</td><td> 25</td><td>221</td><td> 8.3</td></tr>\n",
              "\t<tr><td>Australia         </td><td>261</td><td> 72</td><td>212</td><td>10.4</td></tr>\n",
              "\t<tr><td>Austria           </td><td>279</td><td> 75</td><td>191</td><td> 9.7</td></tr>\n",
              "\t<tr><td>Belarus           </td><td>142</td><td>373</td><td> 42</td><td>14.4</td></tr>\n",
              "\t<tr><td>Belgium           </td><td>295</td><td> 84</td><td>212</td><td>10.5</td></tr>\n",
              "\t<tr><td>Bulgaria          </td><td>231</td><td>252</td><td> 94</td><td>10.3</td></tr>\n",
              "\t<tr><td>Canada            </td><td>240</td><td>122</td><td>100</td><td> 8.2</td></tr>\n",
              "\t<tr><td>Chile             </td><td>130</td><td>124</td><td>172</td><td> 7.6</td></tr>\n",
              "\t<tr><td>Croatia           </td><td>230</td><td> 87</td><td>254</td><td>10.2</td></tr>\n",
              "\t<tr><td>Cyprus            </td><td>192</td><td>154</td><td>113</td><td> 8.2</td></tr>\n",
              "\t<tr><td>Czech Republic    </td><td>361</td><td>170</td><td>134</td><td>11.8</td></tr>\n",
              "\t<tr><td>Denmark           </td><td>224</td><td> 81</td><td>278</td><td>10.4</td></tr>\n",
              "\t<tr><td>Estonia           </td><td>224</td><td>194</td><td> 59</td><td> 9.5</td></tr>\n",
              "\t<tr><td>Finland           </td><td>263</td><td>133</td><td> 97</td><td>10.0</td></tr>\n",
              "\t<tr><td>France            </td><td>127</td><td>151</td><td>370</td><td>11.8</td></tr>\n",
              "\t<tr><td>Gabon             </td><td>347</td><td> 98</td><td> 59</td><td> 8.9</td></tr>\n",
              "\t<tr><td>Germany           </td><td>346</td><td>117</td><td>175</td><td>11.3</td></tr>\n",
              "\t<tr><td>Greece            </td><td>133</td><td>112</td><td>218</td><td> 8.3</td></tr>\n",
              "\t<tr><td>Grenada           </td><td>199</td><td>438</td><td> 28</td><td>11.9</td></tr>\n",
              "\t<tr><td>Hungary           </td><td>234</td><td>215</td><td>185</td><td>11.3</td></tr>\n",
              "\t<tr><td>Ireland           </td><td>313</td><td>118</td><td>165</td><td>11.4</td></tr>\n",
              "\t<tr><td>Latvia            </td><td>281</td><td>216</td><td> 62</td><td>10.5</td></tr>\n",
              "\t<tr><td>Lithuania         </td><td>343</td><td>244</td><td> 56</td><td>12.9</td></tr>\n",
              "\t<tr><td>Luxembourg        </td><td>236</td><td>133</td><td>271</td><td>11.4</td></tr>\n",
              "\t<tr><td>Netherlands       </td><td>251</td><td> 88</td><td>190</td><td> 9.4</td></tr>\n",
              "\t<tr><td>New Zealand       </td><td>203</td><td> 79</td><td>175</td><td> 9.3</td></tr>\n",
              "\t<tr><td>Nigeria           </td><td> 42</td><td>  5</td><td>  2</td><td> 9.1</td></tr>\n",
              "\t<tr><td>Paraguay          </td><td>213</td><td>117</td><td> 74</td><td> 7.3</td></tr>\n",
              "\t<tr><td>Poland            </td><td>343</td><td>215</td><td> 56</td><td>10.9</td></tr>\n",
              "\t<tr><td>Portugal          </td><td>194</td><td> 67</td><td>339</td><td>11.0</td></tr>\n",
              "\t<tr><td>South Korea       </td><td>140</td><td> 16</td><td>  9</td><td> 9.8</td></tr>\n",
              "\t<tr><td>Romania           </td><td>297</td><td>122</td><td>167</td><td>10.4</td></tr>\n",
              "\t<tr><td>Russian Federation</td><td>247</td><td>326</td><td> 73</td><td>11.5</td></tr>\n",
              "\t<tr><td>St. Kitts &amp; Nevis </td><td>194</td><td>205</td><td> 32</td><td> 7.7</td></tr>\n",
              "\t<tr><td>St. Lucia         </td><td>171</td><td>315</td><td> 71</td><td>10.1</td></tr>\n",
              "\t<tr><td>Serbia            </td><td>283</td><td>131</td><td>127</td><td> 9.6</td></tr>\n",
              "\t<tr><td>Slovakia          </td><td>196</td><td>293</td><td>116</td><td>11.4</td></tr>\n",
              "\t<tr><td>Slovenia          </td><td>270</td><td> 51</td><td>276</td><td>10.6</td></tr>\n",
              "\t<tr><td>South Africa      </td><td>225</td><td> 76</td><td> 81</td><td> 8.2</td></tr>\n",
              "\t<tr><td>Spain             </td><td>284</td><td>157</td><td>112</td><td>10.0</td></tr>\n",
              "\t<tr><td>Switzerland       </td><td>185</td><td>100</td><td>280</td><td>10.2</td></tr>\n",
              "\t<tr><td>Uganda            </td><td> 45</td><td>  9</td><td>  0</td><td> 8.3</td></tr>\n",
              "\t<tr><td>Ukraine           </td><td>206</td><td>237</td><td> 45</td><td> 8.9</td></tr>\n",
              "\t<tr><td>United Kingdom    </td><td>219</td><td>126</td><td>195</td><td>10.4</td></tr>\n",
              "\t<tr><td>USA               </td><td>249</td><td>158</td><td> 84</td><td> 8.7</td></tr>\n",
              "\t<tr><td>Venezuela         </td><td>333</td><td>100</td><td>  3</td><td> 7.7</td></tr>\n",
              "</tbody>\n",
              "</table>\n"
            ],
            "text/markdown": "\nA data.table: 47 × 5\n\n| country &lt;chr&gt; | beer_servings &lt;int&gt; | spirit_servings &lt;int&gt; | wine_servings &lt;int&gt; | total_litres_of_pure_alcohol &lt;dbl&gt; |\n|---|---|---|---|---|\n| Andorra            | 245 | 138 | 312 | 12.4 |\n| Argentina          | 193 |  25 | 221 |  8.3 |\n| Australia          | 261 |  72 | 212 | 10.4 |\n| Austria            | 279 |  75 | 191 |  9.7 |\n| Belarus            | 142 | 373 |  42 | 14.4 |\n| Belgium            | 295 |  84 | 212 | 10.5 |\n| Bulgaria           | 231 | 252 |  94 | 10.3 |\n| Canada             | 240 | 122 | 100 |  8.2 |\n| Chile              | 130 | 124 | 172 |  7.6 |\n| Croatia            | 230 |  87 | 254 | 10.2 |\n| Cyprus             | 192 | 154 | 113 |  8.2 |\n| Czech Republic     | 361 | 170 | 134 | 11.8 |\n| Denmark            | 224 |  81 | 278 | 10.4 |\n| Estonia            | 224 | 194 |  59 |  9.5 |\n| Finland            | 263 | 133 |  97 | 10.0 |\n| France             | 127 | 151 | 370 | 11.8 |\n| Gabon              | 347 |  98 |  59 |  8.9 |\n| Germany            | 346 | 117 | 175 | 11.3 |\n| Greece             | 133 | 112 | 218 |  8.3 |\n| Grenada            | 199 | 438 |  28 | 11.9 |\n| Hungary            | 234 | 215 | 185 | 11.3 |\n| Ireland            | 313 | 118 | 165 | 11.4 |\n| Latvia             | 281 | 216 |  62 | 10.5 |\n| Lithuania          | 343 | 244 |  56 | 12.9 |\n| Luxembourg         | 236 | 133 | 271 | 11.4 |\n| Netherlands        | 251 |  88 | 190 |  9.4 |\n| New Zealand        | 203 |  79 | 175 |  9.3 |\n| Nigeria            |  42 |   5 |   2 |  9.1 |\n| Paraguay           | 213 | 117 |  74 |  7.3 |\n| Poland             | 343 | 215 |  56 | 10.9 |\n| Portugal           | 194 |  67 | 339 | 11.0 |\n| South Korea        | 140 |  16 |   9 |  9.8 |\n| Romania            | 297 | 122 | 167 | 10.4 |\n| Russian Federation | 247 | 326 |  73 | 11.5 |\n| St. Kitts &amp; Nevis  | 194 | 205 |  32 |  7.7 |\n| St. Lucia          | 171 | 315 |  71 | 10.1 |\n| Serbia             | 283 | 131 | 127 |  9.6 |\n| Slovakia           | 196 | 293 | 116 | 11.4 |\n| Slovenia           | 270 |  51 | 276 | 10.6 |\n| South Africa       | 225 |  76 |  81 |  8.2 |\n| Spain              | 284 | 157 | 112 | 10.0 |\n| Switzerland        | 185 | 100 | 280 | 10.2 |\n| Uganda             |  45 |   9 |   0 |  8.3 |\n| Ukraine            | 206 | 237 |  45 |  8.9 |\n| United Kingdom     | 219 | 126 | 195 | 10.4 |\n| USA                | 249 | 158 |  84 |  8.7 |\n| Venezuela          | 333 | 100 |   3 |  7.7 |\n\n",
            "text/latex": "A data.table: 47 × 5\n\\begin{tabular}{lllll}\n country & beer\\_servings & spirit\\_servings & wine\\_servings & total\\_litres\\_of\\_pure\\_alcohol\\\\\n <chr> & <int> & <int> & <int> & <dbl>\\\\\n\\hline\n\t Andorra            & 245 & 138 & 312 & 12.4\\\\\n\t Argentina          & 193 &  25 & 221 &  8.3\\\\\n\t Australia          & 261 &  72 & 212 & 10.4\\\\\n\t Austria            & 279 &  75 & 191 &  9.7\\\\\n\t Belarus            & 142 & 373 &  42 & 14.4\\\\\n\t Belgium            & 295 &  84 & 212 & 10.5\\\\\n\t Bulgaria           & 231 & 252 &  94 & 10.3\\\\\n\t Canada             & 240 & 122 & 100 &  8.2\\\\\n\t Chile              & 130 & 124 & 172 &  7.6\\\\\n\t Croatia            & 230 &  87 & 254 & 10.2\\\\\n\t Cyprus             & 192 & 154 & 113 &  8.2\\\\\n\t Czech Republic     & 361 & 170 & 134 & 11.8\\\\\n\t Denmark            & 224 &  81 & 278 & 10.4\\\\\n\t Estonia            & 224 & 194 &  59 &  9.5\\\\\n\t Finland            & 263 & 133 &  97 & 10.0\\\\\n\t France             & 127 & 151 & 370 & 11.8\\\\\n\t Gabon              & 347 &  98 &  59 &  8.9\\\\\n\t Germany            & 346 & 117 & 175 & 11.3\\\\\n\t Greece             & 133 & 112 & 218 &  8.3\\\\\n\t Grenada            & 199 & 438 &  28 & 11.9\\\\\n\t Hungary            & 234 & 215 & 185 & 11.3\\\\\n\t Ireland            & 313 & 118 & 165 & 11.4\\\\\n\t Latvia             & 281 & 216 &  62 & 10.5\\\\\n\t Lithuania          & 343 & 244 &  56 & 12.9\\\\\n\t Luxembourg         & 236 & 133 & 271 & 11.4\\\\\n\t Netherlands        & 251 &  88 & 190 &  9.4\\\\\n\t New Zealand        & 203 &  79 & 175 &  9.3\\\\\n\t Nigeria            &  42 &   5 &   2 &  9.1\\\\\n\t Paraguay           & 213 & 117 &  74 &  7.3\\\\\n\t Poland             & 343 & 215 &  56 & 10.9\\\\\n\t Portugal           & 194 &  67 & 339 & 11.0\\\\\n\t South Korea        & 140 &  16 &   9 &  9.8\\\\\n\t Romania            & 297 & 122 & 167 & 10.4\\\\\n\t Russian Federation & 247 & 326 &  73 & 11.5\\\\\n\t St. Kitts \\& Nevis  & 194 & 205 &  32 &  7.7\\\\\n\t St. Lucia          & 171 & 315 &  71 & 10.1\\\\\n\t Serbia             & 283 & 131 & 127 &  9.6\\\\\n\t Slovakia           & 196 & 293 & 116 & 11.4\\\\\n\t Slovenia           & 270 &  51 & 276 & 10.6\\\\\n\t South Africa       & 225 &  76 &  81 &  8.2\\\\\n\t Spain              & 284 & 157 & 112 & 10.0\\\\\n\t Switzerland        & 185 & 100 & 280 & 10.2\\\\\n\t Uganda             &  45 &   9 &   0 &  8.3\\\\\n\t Ukraine            & 206 & 237 &  45 &  8.9\\\\\n\t United Kingdom     & 219 & 126 & 195 & 10.4\\\\\n\t USA                & 249 & 158 &  84 &  8.7\\\\\n\t Venezuela          & 333 & 100 &   3 &  7.7\\\\\n\\end{tabular}\n",
            "text/plain": [
              "   country            beer_servings spirit_servings wine_servings\n",
              "1  Andorra            245           138             312          \n",
              "2  Argentina          193            25             221          \n",
              "3  Australia          261            72             212          \n",
              "4  Austria            279            75             191          \n",
              "5  Belarus            142           373              42          \n",
              "6  Belgium            295            84             212          \n",
              "7  Bulgaria           231           252              94          \n",
              "8  Canada             240           122             100          \n",
              "9  Chile              130           124             172          \n",
              "10 Croatia            230            87             254          \n",
              "11 Cyprus             192           154             113          \n",
              "12 Czech Republic     361           170             134          \n",
              "13 Denmark            224            81             278          \n",
              "14 Estonia            224           194              59          \n",
              "15 Finland            263           133              97          \n",
              "16 France             127           151             370          \n",
              "17 Gabon              347            98              59          \n",
              "18 Germany            346           117             175          \n",
              "19 Greece             133           112             218          \n",
              "20 Grenada            199           438              28          \n",
              "21 Hungary            234           215             185          \n",
              "22 Ireland            313           118             165          \n",
              "23 Latvia             281           216              62          \n",
              "24 Lithuania          343           244              56          \n",
              "25 Luxembourg         236           133             271          \n",
              "26 Netherlands        251            88             190          \n",
              "27 New Zealand        203            79             175          \n",
              "28 Nigeria             42             5               2          \n",
              "29 Paraguay           213           117              74          \n",
              "30 Poland             343           215              56          \n",
              "31 Portugal           194            67             339          \n",
              "32 South Korea        140            16               9          \n",
              "33 Romania            297           122             167          \n",
              "34 Russian Federation 247           326              73          \n",
              "35 St. Kitts & Nevis  194           205              32          \n",
              "36 St. Lucia          171           315              71          \n",
              "37 Serbia             283           131             127          \n",
              "38 Slovakia           196           293             116          \n",
              "39 Slovenia           270            51             276          \n",
              "40 South Africa       225            76              81          \n",
              "41 Spain              284           157             112          \n",
              "42 Switzerland        185           100             280          \n",
              "43 Uganda              45             9               0          \n",
              "44 Ukraine            206           237              45          \n",
              "45 United Kingdom     219           126             195          \n",
              "46 USA                249           158              84          \n",
              "47 Venezuela          333           100               3          \n",
              "   total_litres_of_pure_alcohol\n",
              "1  12.4                        \n",
              "2   8.3                        \n",
              "3  10.4                        \n",
              "4   9.7                        \n",
              "5  14.4                        \n",
              "6  10.5                        \n",
              "7  10.3                        \n",
              "8   8.2                        \n",
              "9   7.6                        \n",
              "10 10.2                        \n",
              "11  8.2                        \n",
              "12 11.8                        \n",
              "13 10.4                        \n",
              "14  9.5                        \n",
              "15 10.0                        \n",
              "16 11.8                        \n",
              "17  8.9                        \n",
              "18 11.3                        \n",
              "19  8.3                        \n",
              "20 11.9                        \n",
              "21 11.3                        \n",
              "22 11.4                        \n",
              "23 10.5                        \n",
              "24 12.9                        \n",
              "25 11.4                        \n",
              "26  9.4                        \n",
              "27  9.3                        \n",
              "28  9.1                        \n",
              "29  7.3                        \n",
              "30 10.9                        \n",
              "31 11.0                        \n",
              "32  9.8                        \n",
              "33 10.4                        \n",
              "34 11.5                        \n",
              "35  7.7                        \n",
              "36 10.1                        \n",
              "37  9.6                        \n",
              "38 11.4                        \n",
              "39 10.6                        \n",
              "40  8.2                        \n",
              "41 10.0                        \n",
              "42 10.2                        \n",
              "43  8.3                        \n",
              "44  8.9                        \n",
              "45 10.4                        \n",
              "46  8.7                        \n",
              "47  7.7                        "
            ]
          },
          "metadata": {}
        }
      ]
    }
  ]
}